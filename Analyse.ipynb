{
 "cells": [
  {
   "cell_type": "markdown",
   "metadata": {},
   "source": [
    "# Objective function analysis"
   ]
  },
  {
   "cell_type": "code",
   "execution_count": 1,
   "metadata": {},
   "outputs": [],
   "source": [
    "%matplotlib inline\n",
    "\n",
    "import os\n",
    "import numpy as np\n",
    "import matplotlib.pyplot as plt\n",
    "import pandas as pd\n",
    "\n",
    "plt.rc('xtick', labelsize=12)\n",
    "plt.rc('ytick', labelsize=12)\n",
    "plt.rc('font', size=12)"
   ]
  },
  {
   "cell_type": "code",
   "execution_count": null,
   "metadata": {},
   "outputs": [],
   "source": [
    "fileCSV = []\n",
    "data = []\n",
    "\n",
    "print(\"Lectures des fichiers :\")\n",
    "dossier = './data/Raman2/'\n",
    "i = 0\n",
    "\n",
    "for e_file in os.listdir(dossier):\n",
    "    if os.path.splitext(e_file)[1] == \".csv\":\n",
    "        fileCSV.append(e_file)\n",
    "        print(\" - \" + e_file)\n",
    "        \n",
    "        dico = {'file':e_file}\n",
    "        df = pd.read_csv(dossier + e_file, sep=';|,', engine=\"python\", index_col=None)\n",
    "        dico['T'] = np.array(df[df.columns[0]][:2500])\n",
    "        dico['X'] = np.array(df[df.columns[2]][:2500])*4e6\n",
    "        data.append(dico)\n",
    "        \n",
    "        i += 1\n",
    "        if i==8:\n",
    "            break\n",
    "        \n",
    "data[0]['T'] /= 100"
   ]
  }
 ],
 "metadata": {
  "kernelspec": {
   "display_name": "Python 3",
   "language": "python",
   "name": "python3"
  },
  "language_info": {
   "codemirror_mode": {
    "name": "ipython",
    "version": 3
   },
   "file_extension": ".py",
   "mimetype": "text/x-python",
   "name": "python",
   "nbconvert_exporter": "python",
   "pygments_lexer": "ipython3",
   "version": "3.8.3rc1"
  }
 },
 "nbformat": 4,
 "nbformat_minor": 4
}
